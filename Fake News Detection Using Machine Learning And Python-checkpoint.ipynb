{
 "cells": [
  {
   "cell_type": "code",
   "execution_count": 189,
   "id": "d0ab4188",
   "metadata": {},
   "outputs": [
    {
     "data": {
      "text/plain": [
       "'About the dataset:\\n1. It has 20800 rows and 5 columns.\\n2. The columns consists of id,title,author,text,label.\\nId: Unique id of each news article\\nTitle: The title of the news article\\nAuthor: The name of the author who has written the news\\nText: The news written in textual format\\nLabel: To determine whether the news is fake or not.\\n3. The news which is fake is labeled as 1 else 0.\\n'"
      ]
     },
     "execution_count": 189,
     "metadata": {},
     "output_type": "execute_result"
    }
   ],
   "source": [
    "'''About the dataset:\n",
    "1. It has 20800 rows and 5 columns.\n",
    "2. The columns consists of id,title,author,text,label.\n",
    "Id: Unique id of each news article\n",
    "Title: The title of the news article\n",
    "Author: The name of the author who has written the news\n",
    "Text: The news written in textual format\n",
    "Label: To determine whether the news is fake or not.\n",
    "3. The news which is fake is labeled as 1 else 0.\n",
    "'''"
   ]
  },
  {
   "cell_type": "code",
   "execution_count": 190,
   "id": "a6769f1e",
   "metadata": {},
   "outputs": [],
   "source": [
    "#importing the libraries\n",
    "import numpy as np #used to perform mathematical operations on arrays and matrices.\n",
    "import pandas as pd #mostly use for data analysis\n",
    "import re #re stands for regular expression"
   ]
  },
  {
   "cell_type": "code",
   "execution_count": 191,
   "id": "60cb1c5a",
   "metadata": {},
   "outputs": [
    {
     "data": {
      "text/html": [
       "<div>\n",
       "<style scoped>\n",
       "    .dataframe tbody tr th:only-of-type {\n",
       "        vertical-align: middle;\n",
       "    }\n",
       "\n",
       "    .dataframe tbody tr th {\n",
       "        vertical-align: top;\n",
       "    }\n",
       "\n",
       "    .dataframe thead th {\n",
       "        text-align: right;\n",
       "    }\n",
       "</style>\n",
       "<table border=\"1\" class=\"dataframe\">\n",
       "  <thead>\n",
       "    <tr style=\"text-align: right;\">\n",
       "      <th></th>\n",
       "      <th>id</th>\n",
       "      <th>title</th>\n",
       "      <th>author</th>\n",
       "      <th>text</th>\n",
       "      <th>label</th>\n",
       "    </tr>\n",
       "  </thead>\n",
       "  <tbody>\n",
       "    <tr>\n",
       "      <th>0</th>\n",
       "      <td>0</td>\n",
       "      <td>House Dem Aide: We Didn’t Even See Comey’s Let...</td>\n",
       "      <td>Darrell Lucus</td>\n",
       "      <td>House Dem Aide: We Didn’t Even See Comey’s Let...</td>\n",
       "      <td>1</td>\n",
       "    </tr>\n",
       "    <tr>\n",
       "      <th>1</th>\n",
       "      <td>1</td>\n",
       "      <td>FLYNN: Hillary Clinton, Big Woman on Campus - ...</td>\n",
       "      <td>Daniel J. Flynn</td>\n",
       "      <td>Ever get the feeling your life circles the rou...</td>\n",
       "      <td>0</td>\n",
       "    </tr>\n",
       "    <tr>\n",
       "      <th>2</th>\n",
       "      <td>2</td>\n",
       "      <td>Why the Truth Might Get You Fired</td>\n",
       "      <td>Consortiumnews.com</td>\n",
       "      <td>Why the Truth Might Get You Fired October 29, ...</td>\n",
       "      <td>1</td>\n",
       "    </tr>\n",
       "    <tr>\n",
       "      <th>3</th>\n",
       "      <td>3</td>\n",
       "      <td>15 Civilians Killed In Single US Airstrike Hav...</td>\n",
       "      <td>Jessica Purkiss</td>\n",
       "      <td>Videos 15 Civilians Killed In Single US Airstr...</td>\n",
       "      <td>1</td>\n",
       "    </tr>\n",
       "    <tr>\n",
       "      <th>4</th>\n",
       "      <td>4</td>\n",
       "      <td>Iranian woman jailed for fictional unpublished...</td>\n",
       "      <td>Howard Portnoy</td>\n",
       "      <td>Print \\nAn Iranian woman has been sentenced to...</td>\n",
       "      <td>1</td>\n",
       "    </tr>\n",
       "    <tr>\n",
       "      <th>...</th>\n",
       "      <td>...</td>\n",
       "      <td>...</td>\n",
       "      <td>...</td>\n",
       "      <td>...</td>\n",
       "      <td>...</td>\n",
       "    </tr>\n",
       "    <tr>\n",
       "      <th>20795</th>\n",
       "      <td>20795</td>\n",
       "      <td>Rapper T.I.: Trump a ’Poster Child For White S...</td>\n",
       "      <td>Jerome Hudson</td>\n",
       "      <td>Rapper T. I. unloaded on black celebrities who...</td>\n",
       "      <td>0</td>\n",
       "    </tr>\n",
       "    <tr>\n",
       "      <th>20796</th>\n",
       "      <td>20796</td>\n",
       "      <td>N.F.L. Playoffs: Schedule, Matchups and Odds -...</td>\n",
       "      <td>Benjamin Hoffman</td>\n",
       "      <td>When the Green Bay Packers lost to the Washing...</td>\n",
       "      <td>0</td>\n",
       "    </tr>\n",
       "    <tr>\n",
       "      <th>20797</th>\n",
       "      <td>20797</td>\n",
       "      <td>Macy’s Is Said to Receive Takeover Approach by...</td>\n",
       "      <td>Michael J. de la Merced and Rachel Abrams</td>\n",
       "      <td>The Macy’s of today grew from the union of sev...</td>\n",
       "      <td>0</td>\n",
       "    </tr>\n",
       "    <tr>\n",
       "      <th>20798</th>\n",
       "      <td>20798</td>\n",
       "      <td>NATO, Russia To Hold Parallel Exercises In Bal...</td>\n",
       "      <td>Alex Ansary</td>\n",
       "      <td>NATO, Russia To Hold Parallel Exercises In Bal...</td>\n",
       "      <td>1</td>\n",
       "    </tr>\n",
       "    <tr>\n",
       "      <th>20799</th>\n",
       "      <td>20799</td>\n",
       "      <td>What Keeps the F-35 Alive</td>\n",
       "      <td>David Swanson</td>\n",
       "      <td>David Swanson is an author, activist, journa...</td>\n",
       "      <td>1</td>\n",
       "    </tr>\n",
       "  </tbody>\n",
       "</table>\n",
       "<p>20800 rows × 5 columns</p>\n",
       "</div>"
      ],
      "text/plain": [
       "          id                                              title  \\\n",
       "0          0  House Dem Aide: We Didn’t Even See Comey’s Let...   \n",
       "1          1  FLYNN: Hillary Clinton, Big Woman on Campus - ...   \n",
       "2          2                  Why the Truth Might Get You Fired   \n",
       "3          3  15 Civilians Killed In Single US Airstrike Hav...   \n",
       "4          4  Iranian woman jailed for fictional unpublished...   \n",
       "...      ...                                                ...   \n",
       "20795  20795  Rapper T.I.: Trump a ’Poster Child For White S...   \n",
       "20796  20796  N.F.L. Playoffs: Schedule, Matchups and Odds -...   \n",
       "20797  20797  Macy’s Is Said to Receive Takeover Approach by...   \n",
       "20798  20798  NATO, Russia To Hold Parallel Exercises In Bal...   \n",
       "20799  20799                          What Keeps the F-35 Alive   \n",
       "\n",
       "                                          author  \\\n",
       "0                                  Darrell Lucus   \n",
       "1                                Daniel J. Flynn   \n",
       "2                             Consortiumnews.com   \n",
       "3                                Jessica Purkiss   \n",
       "4                                 Howard Portnoy   \n",
       "...                                          ...   \n",
       "20795                              Jerome Hudson   \n",
       "20796                           Benjamin Hoffman   \n",
       "20797  Michael J. de la Merced and Rachel Abrams   \n",
       "20798                                Alex Ansary   \n",
       "20799                              David Swanson   \n",
       "\n",
       "                                                    text  label  \n",
       "0      House Dem Aide: We Didn’t Even See Comey’s Let...      1  \n",
       "1      Ever get the feeling your life circles the rou...      0  \n",
       "2      Why the Truth Might Get You Fired October 29, ...      1  \n",
       "3      Videos 15 Civilians Killed In Single US Airstr...      1  \n",
       "4      Print \\nAn Iranian woman has been sentenced to...      1  \n",
       "...                                                  ...    ...  \n",
       "20795  Rapper T. I. unloaded on black celebrities who...      0  \n",
       "20796  When the Green Bay Packers lost to the Washing...      0  \n",
       "20797  The Macy’s of today grew from the union of sev...      0  \n",
       "20798  NATO, Russia To Hold Parallel Exercises In Bal...      1  \n",
       "20799    David Swanson is an author, activist, journa...      1  \n",
       "\n",
       "[20800 rows x 5 columns]"
      ]
     },
     "execution_count": 191,
     "metadata": {},
     "output_type": "execute_result"
    }
   ],
   "source": [
    "#Data preprocessing\n",
    "#step 1. importing the dataset\n",
    "dataset = pd.read_csv(r\"C:\\Users\\HP\\Desktop\\train.csv\")\n",
    "dataset"
   ]
  },
  {
   "cell_type": "code",
   "execution_count": 192,
   "id": "a5aa9de5",
   "metadata": {},
   "outputs": [
    {
     "name": "stdout",
     "output_type": "stream",
     "text": [
      "          id                                              title  \\\n",
      "0          0  House Dem Aide: We Didn’t Even See Comey’s Let...   \n",
      "1          1  FLYNN: Hillary Clinton, Big Woman on Campus - ...   \n",
      "2          2                  Why the Truth Might Get You Fired   \n",
      "3          3  15 Civilians Killed In Single US Airstrike Hav...   \n",
      "4          4  Iranian woman jailed for fictional unpublished...   \n",
      "...      ...                                                ...   \n",
      "20795  20795  Rapper T.I.: Trump a ’Poster Child For White S...   \n",
      "20796  20796  N.F.L. Playoffs: Schedule, Matchups and Odds -...   \n",
      "20797  20797  Macy’s Is Said to Receive Takeover Approach by...   \n",
      "20798  20798  NATO, Russia To Hold Parallel Exercises In Bal...   \n",
      "20799  20799                          What Keeps the F-35 Alive   \n",
      "\n",
      "                                          author  \\\n",
      "0                                  Darrell Lucus   \n",
      "1                                Daniel J. Flynn   \n",
      "2                             Consortiumnews.com   \n",
      "3                                Jessica Purkiss   \n",
      "4                                 Howard Portnoy   \n",
      "...                                          ...   \n",
      "20795                              Jerome Hudson   \n",
      "20796                           Benjamin Hoffman   \n",
      "20797  Michael J. de la Merced and Rachel Abrams   \n",
      "20798                                Alex Ansary   \n",
      "20799                              David Swanson   \n",
      "\n",
      "                                                    text  \n",
      "0      House Dem Aide: We Didn’t Even See Comey’s Let...  \n",
      "1      Ever get the feeling your life circles the rou...  \n",
      "2      Why the Truth Might Get You Fired October 29, ...  \n",
      "3      Videos 15 Civilians Killed In Single US Airstr...  \n",
      "4      Print \\nAn Iranian woman has been sentenced to...  \n",
      "...                                                  ...  \n",
      "20795  Rapper T. I. unloaded on black celebrities who...  \n",
      "20796  When the Green Bay Packers lost to the Washing...  \n",
      "20797  The Macy’s of today grew from the union of sev...  \n",
      "20798  NATO, Russia To Hold Parallel Exercises In Bal...  \n",
      "20799    David Swanson is an author, activist, journa...  \n",
      "\n",
      "[20800 rows x 4 columns]\n"
     ]
    }
   ],
   "source": [
    "#separating the features and label\n",
    "X = dataset.drop(columns='label',axis=1) #deafult is 0\n",
    "print(X)"
   ]
  },
  {
   "cell_type": "code",
   "execution_count": 193,
   "id": "1807f452",
   "metadata": {},
   "outputs": [
    {
     "name": "stdout",
     "output_type": "stream",
     "text": [
      "0        1\n",
      "1        0\n",
      "2        1\n",
      "3        1\n",
      "4        1\n",
      "        ..\n",
      "20795    0\n",
      "20796    0\n",
      "20797    0\n",
      "20798    1\n",
      "20799    1\n",
      "Name: label, Length: 20800, dtype: int64\n"
     ]
    }
   ],
   "source": [
    "y = dataset['label']\n",
    "print(y)"
   ]
  },
  {
   "cell_type": "code",
   "execution_count": 194,
   "id": "b7a4efe1",
   "metadata": {},
   "outputs": [
    {
     "data": {
      "text/plain": [
       "id           0\n",
       "title      558\n",
       "author    1957\n",
       "text        39\n",
       "label        0\n",
       "dtype: int64"
      ]
     },
     "execution_count": 194,
     "metadata": {},
     "output_type": "execute_result"
    }
   ],
   "source": [
    "#checking if there is any null value exists\n",
    "dataset.isnull().sum()"
   ]
  },
  {
   "cell_type": "code",
   "execution_count": 195,
   "id": "a3d0da46",
   "metadata": {},
   "outputs": [],
   "source": [
    "#taking care of missing data\n",
    "#The missing values or data will be replaces by empty strings\n",
    "dataset = dataset.fillna('')"
   ]
  },
  {
   "cell_type": "code",
   "execution_count": 196,
   "id": "305cef97",
   "metadata": {},
   "outputs": [
    {
     "data": {
      "text/plain": [
       "0        Darrell LucusHouse Dem Aide: We Didn’t Even Se...\n",
       "1        Daniel J. FlynnFLYNN: Hillary Clinton, Big Wom...\n",
       "2        Consortiumnews.comWhy the Truth Might Get You ...\n",
       "3        Jessica Purkiss15 Civilians Killed In Single U...\n",
       "4        Howard PortnoyIranian woman jailed for fiction...\n",
       "                               ...                        \n",
       "20795    Jerome HudsonRapper T.I.: Trump a ’Poster Chil...\n",
       "20796    Benjamin HoffmanN.F.L. Playoffs: Schedule, Mat...\n",
       "20797    Michael J. de la Merced and Rachel AbramsMacy’...\n",
       "20798    Alex AnsaryNATO, Russia To Hold Parallel Exerc...\n",
       "20799               David SwansonWhat Keeps the F-35 Alive\n",
       "Name: main, Length: 20800, dtype: object"
      ]
     },
     "execution_count": 196,
     "metadata": {},
     "output_type": "execute_result"
    }
   ],
   "source": [
    "#now that the missing values have been replaced, we now have\n",
    "#to create a new column and merge the only which are important\n",
    "dataset['main'] = dataset['author']  + dataset['title']\n",
    "dataset['main']"
   ]
  },
  {
   "cell_type": "code",
   "execution_count": 197,
   "id": "b1f6c77b",
   "metadata": {},
   "outputs": [
    {
     "name": "stdout",
     "output_type": "stream",
     "text": [
      "['Darrell LucusHouse Dem Aide: We Didn’t Even See Comey’s Letter Until Jason Chaffetz Tweeted It'\n",
      " 'Daniel J. FlynnFLYNN: Hillary Clinton, Big Woman on Campus - Breitbart'\n",
      " 'Consortiumnews.comWhy the Truth Might Get You Fired' ...\n",
      " 'Michael J. de la Merced and Rachel AbramsMacy’s Is Said to Receive Takeover Approach by Hudson’s Bay - The New York Times'\n",
      " 'Alex AnsaryNATO, Russia To Hold Parallel Exercises In Balkans'\n",
      " 'David SwansonWhat Keeps the F-35 Alive']\n"
     ]
    }
   ],
   "source": [
    "#now, taking only data in X and label in Y\n",
    "X = dataset['main'].values\n",
    "y = dataset['label'].values\n",
    "print(X)"
   ]
  },
  {
   "cell_type": "code",
   "execution_count": 198,
   "id": "69ada32e",
   "metadata": {},
   "outputs": [
    {
     "name": "stdout",
     "output_type": "stream",
     "text": [
      "[1 0 1 ... 0 1 1]\n"
     ]
    }
   ],
   "source": [
    "print(y)"
   ]
  },
  {
   "cell_type": "code",
   "execution_count": 199,
   "id": "bd79c3b4",
   "metadata": {},
   "outputs": [
    {
     "data": {
      "text/plain": [
       "TfidfVectorizer()"
      ]
     },
     "execution_count": 199,
     "metadata": {},
     "output_type": "execute_result"
    }
   ],
   "source": [
    "#now the last step of data preprocessing, converting the textual data into numbers since computer cannot understand text.\n",
    "#using vectorizer, it uses some formula and because of that it converts all the text into numbers\n",
    "from sklearn.feature_extraction.text import TfidfVectorizer\n",
    "#here tf stands for term frequency and idf stands for invese document freuquency.\n",
    "#both when combined, called vectorization\n",
    "vector = TfidfVectorizer()\n",
    "vector.fit(X)"
   ]
  },
  {
   "cell_type": "code",
   "execution_count": 200,
   "id": "1e7a0714",
   "metadata": {},
   "outputs": [
    {
     "name": "stdout",
     "output_type": "stream",
     "text": [
      "  (0, 34402)\t0.17918739747269477\n",
      "  (0, 33460)\t0.2620405036866357\n",
      "  (0, 33092)\t0.34354025525372645\n",
      "  (0, 28544)\t0.22370120836039492\n",
      "  (0, 19040)\t0.35769014842767877\n",
      "  (0, 18475)\t0.24826788911182338\n",
      "  (0, 16508)\t0.20476648736259792\n",
      "  (0, 16295)\t0.1536111400920685\n",
      "  (0, 10594)\t0.23028973074454998\n",
      "  (0, 8620)\t0.24398932179297475\n",
      "  (0, 8241)\t0.2740085657861192\n",
      "  (0, 7840)\t0.2951614509491496\n",
      "  (0, 6517)\t0.20565002646673405\n",
      "  (0, 5558)\t0.3015240959717515\n",
      "  (0, 1181)\t0.26093253981852516\n",
      "  (1, 35080)\t0.3619575823267221\n",
      "  (1, 22730)\t0.19046856538729842\n",
      "  (1, 14631)\t0.23703745360274664\n",
      "  (1, 11652)\t0.5156618392052476\n",
      "  (1, 7777)\t0.313608220062674\n",
      "  (1, 6219)\t0.23118052033472167\n",
      "  (1, 5116)\t0.4508844821928066\n",
      "  (1, 4420)\t0.18290583060889654\n",
      "  (1, 3621)\t0.3493832273397924\n",
      "  (2, 35465)\t0.25674258355397445\n",
      "  :\t:\n",
      "  (20797, 20409)\t0.3114229497461508\n",
      "  (20797, 17935)\t0.21981444256219335\n",
      "  (20797, 16233)\t0.126331449970448\n",
      "  (20797, 15082)\t0.2922971928123606\n",
      "  (20797, 7967)\t0.20435849370299847\n",
      "  (20797, 4918)\t0.14454598768248803\n",
      "  (20797, 3193)\t0.319465848546272\n",
      "  (20797, 1983)\t0.2992952761823999\n",
      "  (20797, 1589)\t0.098670744830669\n",
      "  (20797, 561)\t0.3694328997471637\n",
      "  (20798, 32494)\t0.10887119044271203\n",
      "  (20798, 27629)\t0.21692587637506655\n",
      "  (20798, 23382)\t0.42770230418773786\n",
      "  (20798, 15710)\t0.1239481376261309\n",
      "  (20798, 14776)\t0.3319230052039841\n",
      "  (20798, 10707)\t0.42770230418773786\n",
      "  (20798, 2818)\t0.42770230418773786\n",
      "  (20798, 1778)\t0.44057760108258226\n",
      "  (20798, 1318)\t0.26955110878585165\n",
      "  (20799, 32172)\t0.09863101457754724\n",
      "  (20799, 31542)\t0.5671916368110707\n",
      "  (20799, 17119)\t0.43707151613801043\n",
      "  (20799, 7894)\t0.29198089463279825\n",
      "  (20799, 1360)\t0.429682172021621\n",
      "  (20799, 266)\t0.45569117622795363\n"
     ]
    }
   ],
   "source": [
    "X = vector.transform(X)\n",
    "print(X)"
   ]
  },
  {
   "cell_type": "code",
   "execution_count": 201,
   "id": "558693c0",
   "metadata": {},
   "outputs": [],
   "source": [
    "#SPLITTING THE DATASET INTO TRAINING AND TEST SET\n",
    "from sklearn.model_selection import train_test_split\n",
    "X_train , X_test, y_train, y_test = train_test_split(X,y, test_size=0.2,random_state = 0)"
   ]
  },
  {
   "cell_type": "code",
   "execution_count": 202,
   "id": "bc4a7371",
   "metadata": {},
   "outputs": [],
   "source": [
    "#Training the logistic regression model into the training set\n",
    "from sklearn.linear_model import LogisticRegression\n",
    "classifier = LogisticRegression()"
   ]
  },
  {
   "cell_type": "code",
   "execution_count": 203,
   "id": "d74ef36f",
   "metadata": {},
   "outputs": [
    {
     "data": {
      "text/plain": [
       "LogisticRegression()"
      ]
     },
     "execution_count": 203,
     "metadata": {},
     "output_type": "execute_result"
    }
   ],
   "source": [
    "classifier.fit(X_train, y_train)"
   ]
  },
  {
   "cell_type": "code",
   "execution_count": 204,
   "id": "45d4d7ed",
   "metadata": {},
   "outputs": [
    {
     "name": "stdout",
     "output_type": "stream",
     "text": [
      "[0 1 1 ... 0 1 1]\n"
     ]
    }
   ],
   "source": [
    "#predicting the test set results\n",
    "y_predict = classifier.predict(X_test)\n",
    "print(y_predict)"
   ]
  },
  {
   "cell_type": "code",
   "execution_count": 205,
   "id": "02b05abc",
   "metadata": {},
   "outputs": [
    {
     "name": "stdout",
     "output_type": "stream",
     "text": [
      "[0 1 1 ... 0 1 1]\n"
     ]
    }
   ],
   "source": [
    "print(y_test)"
   ]
  },
  {
   "cell_type": "code",
   "execution_count": 206,
   "id": "d3930bca",
   "metadata": {},
   "outputs": [
    {
     "name": "stdout",
     "output_type": "stream",
     "text": [
      "0\n"
     ]
    }
   ],
   "source": [
    "print(y_test[0])"
   ]
  },
  {
   "cell_type": "code",
   "execution_count": 207,
   "id": "d4d8b161",
   "metadata": {},
   "outputs": [
    {
     "name": "stdout",
     "output_type": "stream",
     "text": [
      "1\n"
     ]
    }
   ],
   "source": [
    "print(y_test[9])"
   ]
  },
  {
   "cell_type": "code",
   "execution_count": 208,
   "id": "fb8454a0",
   "metadata": {},
   "outputs": [
    {
     "name": "stdout",
     "output_type": "stream",
     "text": [
      "0\n"
     ]
    }
   ],
   "source": [
    "print(y_test[4])"
   ]
  },
  {
   "cell_type": "code",
   "execution_count": 209,
   "id": "2d7fb1ba",
   "metadata": {},
   "outputs": [
    {
     "name": "stdout",
     "output_type": "stream",
     "text": [
      "1\n"
     ]
    }
   ],
   "source": [
    "print(y_predict[4])"
   ]
  },
  {
   "cell_type": "code",
   "execution_count": 210,
   "id": "47b2b3d1",
   "metadata": {},
   "outputs": [
    {
     "name": "stdout",
     "output_type": "stream",
     "text": [
      "0.9545673076923077\n"
     ]
    }
   ],
   "source": [
    "#checking the accuracy of test data\n",
    "from sklearn.metrics import accuracy_score\n",
    "accuracy = accuracy_score(y_predict,y_test)\n",
    "print(accuracy)"
   ]
  },
  {
   "cell_type": "code",
   "execution_count": 211,
   "id": "7777605f",
   "metadata": {},
   "outputs": [
    {
     "name": "stdout",
     "output_type": "stream",
     "text": [
      "[1 0 1 ... 0 0 0]\n"
     ]
    }
   ],
   "source": [
    "#predicting the training set results\n",
    "x_predict = classifier.predict(X_train)\n",
    "print(x_predict)"
   ]
  },
  {
   "cell_type": "code",
   "execution_count": 212,
   "id": "82691f28",
   "metadata": {},
   "outputs": [
    {
     "name": "stdout",
     "output_type": "stream",
     "text": [
      "[1 0 1 ... 0 0 0]\n"
     ]
    }
   ],
   "source": [
    "print(y_train)"
   ]
  },
  {
   "cell_type": "code",
   "execution_count": 213,
   "id": "91fcfbbe",
   "metadata": {},
   "outputs": [
    {
     "name": "stdout",
     "output_type": "stream",
     "text": [
      "0.9725360576923077\n"
     ]
    }
   ],
   "source": [
    "#checking the accuracy score of training data\n",
    "accuracy_training = accuracy_score(x_predict,y_train)\n",
    "print(accuracy_training)\n"
   ]
  },
  {
   "cell_type": "code",
   "execution_count": 214,
   "id": "05316b63",
   "metadata": {},
   "outputs": [
    {
     "data": {
      "text/plain": [
       "array([[1874,  172],\n",
       "       [  17, 2097]], dtype=int64)"
      ]
     },
     "execution_count": 214,
     "metadata": {},
     "output_type": "execute_result"
    }
   ],
   "source": [
    "#making the confusion matrix\n",
    "from sklearn.metrics import confusion_matrix\n",
    "cm = confusion_matrix(y_test,y_predict)\n",
    "cm"
   ]
  },
  {
   "cell_type": "code",
   "execution_count": 215,
   "id": "40a80ea4",
   "metadata": {},
   "outputs": [],
   "source": [
    "#saving the trained model \n",
    "import joblib\n"
   ]
  },
  {
   "cell_type": "code",
   "execution_count": 216,
   "id": "7d4a86f3",
   "metadata": {},
   "outputs": [
    {
     "data": {
      "text/plain": [
       "['my_model']"
      ]
     },
     "execution_count": 216,
     "metadata": {},
     "output_type": "execute_result"
    }
   ],
   "source": [
    "joblib.dump(classifier,'my_model')"
   ]
  },
  {
   "cell_type": "code",
   "execution_count": 217,
   "id": "e7af30ef",
   "metadata": {},
   "outputs": [],
   "source": [
    "model = joblib.load('my_model')"
   ]
  },
  {
   "cell_type": "code",
   "execution_count": 218,
   "id": "36a72334",
   "metadata": {},
   "outputs": [
    {
     "data": {
      "text/plain": [
       "array([1, 0, 1, ..., 0, 0, 0], dtype=int64)"
      ]
     },
     "execution_count": 218,
     "metadata": {},
     "output_type": "execute_result"
    }
   ],
   "source": [
    "model.predict(X_train)"
   ]
  },
  {
   "cell_type": "code",
   "execution_count": 219,
   "id": "e5d224f2",
   "metadata": {},
   "outputs": [
    {
     "data": {
      "text/plain": [
       "array([0], dtype=int64)"
      ]
     },
     "execution_count": 219,
     "metadata": {},
     "output_type": "execute_result"
    }
   ],
   "source": [
    "model.predict(X_train[101])"
   ]
  }
 ],
 "metadata": {
  "kernelspec": {
   "display_name": "Python 3 (ipykernel)",
   "language": "python",
   "name": "python3"
  },
  "language_info": {
   "codemirror_mode": {
    "name": "ipython",
    "version": 3
   },
   "file_extension": ".py",
   "mimetype": "text/x-python",
   "name": "python",
   "nbconvert_exporter": "python",
   "pygments_lexer": "ipython3",
   "version": "3.9.7"
  }
 },
 "nbformat": 4,
 "nbformat_minor": 5
}
